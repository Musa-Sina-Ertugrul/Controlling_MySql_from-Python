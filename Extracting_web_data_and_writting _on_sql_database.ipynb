{
 "cells": [
  {
   "cell_type": "markdown",
   "id": "5e84c5de",
   "metadata": {},
   "source": [
    "# Extracting bitcoin data from web to MySql database then visuliazing it"
   ]
  },
  {
   "cell_type": "markdown",
   "id": "3c0793cd",
   "metadata": {},
   "source": [
    "### Importing"
   ]
  },
  {
   "cell_type": "code",
   "execution_count": null,
   "id": "6a2c23df",
   "metadata": {},
   "outputs": [],
   "source": [
    "!pip install plotly==5.3.1\n",
    "!pip install pandas==1.3.3\n",
    "!pip install requests==2.26.0\n",
    "!pip install mysql-connector-python==8.0.17\n",
    "!mamba install bs4==4.10.0 -y\n",
    "!mamba install html5lib==1.1 -y\n",
    "!pip install lxml==4.6.4"
   ]
  },
  {
   "cell_type": "code",
   "execution_count": null,
   "id": "54a1466d",
   "metadata": {},
   "outputs": [],
   "source": [
    "import mysql.connector\n",
    "import pandas as pd\n",
    "from bs4 import BeautifulSoup\n",
    "import requests\n",
    "from datetime import datetime\n",
    "from datetime import date\n",
    "import time\n",
    "import re"
   ]
  },
  {
   "cell_type": "markdown",
   "id": "479eaad9",
   "metadata": {},
   "source": [
    "### Connecting database and functions "
   ]
  },
  {
   "cell_type": "code",
   "execution_count": null,
   "id": "fd1e38e7",
   "metadata": {},
   "outputs": [],
   "source": [
    "cnx = mysql.connector.connect(user='root',password='------',\n",
    "                                 host='localhost',database = \"testdb\")\n",
    "cursor = cnx.cursor()    \n",
    "def db_adder(cursor,id,date,price):\n",
    "    cursor.execute(\n",
    "     'INSERT INTO testdb.bitcoin_data (ID,DATE,PRICE) VALUES ({},\\\"{}\\\",{:^2});'.format(id,date,price))\n",
    "def return_last_id(cursor):\n",
    "    cursor.execute(\n",
    "        \"SELECT ID FROM testdb.bitcoin_data ORDER BY ID DESC LIMIT 1\")\n",
    "    count = cursor.fetchall()\n",
    "    if not count:\n",
    "        count = 0\n",
    "    else:\n",
    "        count = count[0][0]+1\n",
    "    return count"
   ]
  },
  {
   "cell_type": "markdown",
   "id": "7bf82726",
   "metadata": {},
   "source": [
    "### Extracting patterns and commiting to database"
   ]
  },
  {
   "cell_type": "code",
   "execution_count": 22,
   "id": "2737c094",
   "metadata": {},
   "outputs": [
    {
     "ename": "KeyboardInterrupt",
     "evalue": "",
     "output_type": "error",
     "traceback": [
      "\u001b[1;31m---------------------------------------------------------------------------\u001b[0m",
      "\u001b[1;31mKeyboardInterrupt\u001b[0m                         Traceback (most recent call last)",
      "Input \u001b[1;32mIn [22]\u001b[0m, in \u001b[0;36m<cell line: 6>\u001b[1;34m()\u001b[0m\n\u001b[0;32m     16\u001b[0m cnx\u001b[38;5;241m.\u001b[39mcommit()\n\u001b[0;32m     17\u001b[0m \u001b[38;5;28mid\u001b[39m \u001b[38;5;241m+\u001b[39m\u001b[38;5;241m=\u001b[39m \u001b[38;5;241m1\u001b[39m\n\u001b[1;32m---> 18\u001b[0m \u001b[43mtime\u001b[49m\u001b[38;5;241;43m.\u001b[39;49m\u001b[43msleep\u001b[49m\u001b[43m(\u001b[49m\u001b[38;5;241;43m10\u001b[39;49m\u001b[43m)\u001b[49m\n",
      "\u001b[1;31mKeyboardInterrupt\u001b[0m: "
     ]
    }
   ],
   "source": [
    "url = \"https://api.binance.com/api/v3/ticker/price?symbol=BTCUSDT\"\n",
    "data = requests.get(url).text\n",
    "soup = BeautifulSoup(data,\"html5lib\")\n",
    "id = return_last_id(cursor)\n",
    "while True:\n",
    "    data = requests.get(url).text\n",
    "    soup = BeautifulSoup(data,\"html5lib\")\n",
    "    price_data_html = soup.find(\"body\")\n",
    "    price_data_re = re.search(r\"price\\\":\\\"([0-9]+\\.[0-9]+)\",str(price_data_html))\n",
    "    price_data = price_data_re.group(1)\n",
    "    price_data = float(price_data)\n",
    "    date_time = str(datetime.now())\n",
    "    date_data_re = re.search(r\"(.*) \",str(date_time))\n",
    "    date_data = date_data_re.group(1)\n",
    "    db_adder(cursor,id,date_data,price_data)\n",
    "    cnx.commit()\n",
    "    id += 1\n",
    "    time.sleep(10)"
   ]
  },
  {
   "cell_type": "markdown",
   "id": "6e264e96",
   "metadata": {},
   "source": [
    "### Reading SQL data with Pandas"
   ]
  },
  {
   "cell_type": "code",
   "execution_count": 27,
   "id": "2b178a67",
   "metadata": {},
   "outputs": [
    {
     "data": {
      "text/html": [
       "<div>\n",
       "<style scoped>\n",
       "    .dataframe tbody tr th:only-of-type {\n",
       "        vertical-align: middle;\n",
       "    }\n",
       "\n",
       "    .dataframe tbody tr th {\n",
       "        vertical-align: top;\n",
       "    }\n",
       "\n",
       "    .dataframe thead th {\n",
       "        text-align: right;\n",
       "    }\n",
       "</style>\n",
       "<table border=\"1\" class=\"dataframe\">\n",
       "  <thead>\n",
       "    <tr style=\"text-align: right;\">\n",
       "      <th></th>\n",
       "      <th>ID</th>\n",
       "      <th>DATE</th>\n",
       "      <th>PRICE</th>\n",
       "    </tr>\n",
       "  </thead>\n",
       "  <tbody>\n",
       "    <tr>\n",
       "      <th>0</th>\n",
       "      <td>0</td>\n",
       "      <td>2022-08-14</td>\n",
       "      <td>24510.4</td>\n",
       "    </tr>\n",
       "    <tr>\n",
       "      <th>1</th>\n",
       "      <td>1</td>\n",
       "      <td>2022-08-14</td>\n",
       "      <td>24513.9</td>\n",
       "    </tr>\n",
       "    <tr>\n",
       "      <th>2</th>\n",
       "      <td>2</td>\n",
       "      <td>2022-08-14</td>\n",
       "      <td>24515.4</td>\n",
       "    </tr>\n",
       "    <tr>\n",
       "      <th>3</th>\n",
       "      <td>3</td>\n",
       "      <td>2022-08-14</td>\n",
       "      <td>24514.3</td>\n",
       "    </tr>\n",
       "    <tr>\n",
       "      <th>4</th>\n",
       "      <td>4</td>\n",
       "      <td>2022-08-14</td>\n",
       "      <td>24502.2</td>\n",
       "    </tr>\n",
       "  </tbody>\n",
       "</table>\n",
       "</div>"
      ],
      "text/plain": [
       "   ID        DATE    PRICE\n",
       "0   0  2022-08-14  24510.4\n",
       "1   1  2022-08-14  24513.9\n",
       "2   2  2022-08-14  24515.4\n",
       "3   3  2022-08-14  24514.3\n",
       "4   4  2022-08-14  24502.2"
      ]
     },
     "execution_count": 27,
     "metadata": {},
     "output_type": "execute_result"
    }
   ],
   "source": [
    "btc_df = pd.read_sql(\"SELECT * FROM testdb.bitcoin_data\",cnx)\n",
    "btc_df.head()"
   ]
  },
  {
   "cell_type": "markdown",
   "id": "a8a6bf80",
   "metadata": {
    "scrolled": true
   },
   "source": [
    "### Plotting"
   ]
  },
  {
   "cell_type": "code",
   "execution_count": 23,
   "id": "27e8da67",
   "metadata": {},
   "outputs": [
    {
     "data": {
      "text/plain": [
       "<AxesSubplot:xlabel='DATE'>"
      ]
     },
     "execution_count": 23,
     "metadata": {},
     "output_type": "execute_result"
    },
    {
     "data": {
      "image/png": "[encoded data removed]",
      "text/plain": [
       "<Figure size 432x288 with 1 Axes>"
      ]
     },
     "metadata": {
      "needs_background": "light"
     },
     "output_type": "display_data"
    }
   ],
   "source": [
    "btc_df.plot(x=\"DATE\",y=\"PRICE\")"
   ]
  }
 ],
 "metadata": {
  "kernelspec": {
   "display_name": "Python 3 (ipykernel)",
   "language": "python",
   "name": "python3"
  },
  "language_info": {
   "codemirror_mode": {
    "name": "ipython",
    "version": 3
   },
   "file_extension": ".py",
   "mimetype": "text/x-python",
   "name": "python",
   "nbconvert_exporter": "python",
   "pygments_lexer": "ipython3",
   "version": "3.9.12"
  }
 },
 "nbformat": 4,
 "nbformat_minor": 5
}
